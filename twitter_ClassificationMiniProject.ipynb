{
 "cells": [
  {
   "cell_type": "code",
   "execution_count": 68,
   "metadata": {},
   "outputs": [
    {
     "name": "stdout",
     "output_type": "stream",
     "text": [
      "modi :\n",
      "Positive tweets 0.23 %\n",
      "Negative tweets 0.22 %\n",
      "Neutral tweets 0.55 %\n",
      "kejrewal :\n",
      "Positive tweets 0.13 %\n",
      "Negative tweets 0.03 %\n",
      "Neutral tweets 0.84 %\n",
      "BJP :\n",
      "Positive tweets 0.21 %\n",
      "Negative tweets 0.11 %\n",
      "Neutral tweets 0.68 %\n",
      "Aap :\n",
      "Positive tweets 0.19 %\n",
      "Negative tweets 0.09 %\n",
      "Neutral tweets 0.72 %\n",
      "Salman :\n",
      "Positive tweets 0.27 %\n",
      "Negative tweets 0.16 %\n",
      "Neutral tweets 0.57 %\n",
      "csgo :\n",
      "Positive tweets 0.16 %\n",
      "Negative tweets 0.16 %\n",
      "Neutral tweets 0.68 %\n",
      "steamsale :\n",
      "Positive tweets 0.41 %\n",
      "Negative tweets 0.11 %\n",
      "Neutral tweets 0.48 %\n"
     ]
    }
   ],
   "source": [
    "import tweepy\n",
    "from tweepy import OAuthHandler\n",
    "import re\n",
    "from textblob import TextBlob\n",
    "def getAuth():\n",
    "    access_token=\"2812647642-mKJ6dwS8Bk92E8GjweiEizJ5EQAytQqXIRyPTsL\"\n",
    "    access_token_secret=\"6hdEd38STFLqkHWhUTptdTYTdnwaUzGowS60XV1WR7EwK\"\n",
    "    consumer_key=\"0l75PTnEc8JHG19SsutD0xBMi\"\n",
    "    consumer_key_secret=\"fTHmE4KqXaVG1UkcQKNSDn4SID7ZflD9Ma6x2BmbbukAYx6dnX\"\n",
    "    try:\n",
    "        auth=OAuthHandler(consumer_key,consumer_key_secret)\n",
    "        auth.set_access_token(access_token,access_token_secret)\n",
    "        api=tweepy.API(auth)\n",
    "        return api\n",
    "    except:\n",
    "        print(\"Error in dsdffv Except\")\n",
    "def cleanTweets(tw_str):\n",
    "    clean_tweet=re.sub(r'http\\S+|@\\S+','',tw_str)\n",
    "    return clean_tweet\n",
    "\n",
    "query_string=['modi','kejrewal','BJP','Aap','Salman','csgo','steamsale']\n",
    "api=getAuth()\n",
    "for query in query_string:\n",
    "    tweets=api.search(q=query,count=100)\n",
    "    \"\"\"\"for i in var:\n",
    "        var2=i._json.items()\n",
    "        print(i.text)\n",
    "        for key,value in var2:\n",
    "            print(key,\",\",value)\"\"\"\n",
    "    positive_count=negative_count=neutral_count=0\n",
    "    for tw in tweets:\n",
    "        tweet_to_analyze=TextBlob(cleanTweets(tw.text))\n",
    "        #print(tweet_to_analyze.sentiment)\n",
    "        #print(tweet_to_analyze.sentiment.polarity)\n",
    "        if(tweet_to_analyze.sentiment.polarity>0):\n",
    "            positive_count=positive_count+1\n",
    "            #print(\"Positive\",tweet_to_analyze.sentiment.polarity)\n",
    "        elif(tweet_to_analyze.sentiment.polarity<0):\n",
    "            negative_count=negative_count+1\n",
    "            #print(\"Negative\",tweet_to_analyze.sentiment.polarity)\n",
    "        else:\n",
    "            neutral_count=neutral_count+1\n",
    "            #print(\"Neutral\",tweet_to_analyze.sentiment.polarity)\n",
    "    print(query,\":\")\n",
    "    print(\"Positive tweets\",positive_count/100,\"%\")\n",
    "    print(\"Negative tweets\",negative_count/100,\"%\")\n",
    "    print(\"Neutral tweets\",neutral_count/100,\"%\")\n",
    "    \n",
    "    \n",
    "    \n"
   ]
  },
  {
   "cell_type": "code",
   "execution_count": null,
   "metadata": {
    "collapsed": true
   },
   "outputs": [],
   "source": []
  },
  {
   "cell_type": "code",
   "execution_count": null,
   "metadata": {
    "collapsed": true
   },
   "outputs": [],
   "source": []
  }
 ],
 "metadata": {
  "kernelspec": {
   "display_name": "Python 3",
   "language": "python",
   "name": "python3"
  },
  "language_info": {
   "codemirror_mode": {
    "name": "ipython",
    "version": 3
   },
   "file_extension": ".py",
   "mimetype": "text/x-python",
   "name": "python",
   "nbconvert_exporter": "python",
   "pygments_lexer": "ipython3",
   "version": "3.6.3"
  }
 },
 "nbformat": 4,
 "nbformat_minor": 2
}
